{
 "cells": [
  {
   "cell_type": "code",
   "execution_count": null,
   "metadata": {},
   "outputs": [],
   "source": [
    "import os\n",
    "import numpy as np\n",
    "import h5py\n",
    "from random import *\n",
    "import tensorflow as tf"
   ]
  },
  {
   "cell_type": "code",
   "execution_count": null,
   "metadata": {},
   "outputs": [],
   "source": [
    "flist=os.listdir(\"./data/npy_10000/list\")"
   ]
  },
  {
   "cell_type": "code",
   "execution_count": null,
   "metadata": {},
   "outputs": [],
   "source": [
    "max_shards=20"
   ]
  },
  {
   "cell_type": "code",
   "execution_count": null,
   "metadata": {},
   "outputs": [],
   "source": [
    "flist1=flist[:2000]\n",
    "flist2=flist[2000:]"
   ]
  },
  {
   "cell_type": "code",
   "execution_count": null,
   "metadata": {
    "scrolled": true
   },
   "outputs": [],
   "source": [
    "# shards>20 print\n",
    "for filelist in flist2:\n",
    "    fstr=filelist.split('_')\n",
    "#     print(file)\n",
    "    filenames=[line.rstrip() for line in open(\"./data/npy_10000/list/\"+filelist,'r')]\n",
    "    temp_list=[]\n",
    "    temp_label=[]\n",
    "    for i in range(0,len(filenames)): #한 도자기 마다 생성중\n",
    "        if filenames[i]==\"\":\n",
    "            continue\n",
    "        npydata=np.load(\"./data/npy_10000/npy/\"+filenames[i]+\".npy\")\n",
    "        np.random.shuffle(npydata)\n",
    "        if npydata.shape[0]<2048:\n",
    "            continue\n",
    "        else:\n",
    "            temp_j_list=[]\n",
    "            for j in range(0,2048):\n",
    "                temp_j_list.append([npydata[j][0], npydata[j][1], npydata[j][2]])\n",
    "            \n",
    "            temp_list.append(temp_j_list)\n",
    "            temp_label.append(int(fstr[1])-1)\n",
    "\n",
    "    if len(temp_list) > max_shards:\n",
    "        print(\"filenames: \"+str(filenames))\n",
    "#         print(\"randomseed: \"+fstr(3))\n",
    "\n"
   ]
  },
  {
   "cell_type": "code",
   "execution_count": null,
   "metadata": {},
   "outputs": [],
   "source": [
    "len(flist)"
   ]
  },
  {
   "cell_type": "code",
   "execution_count": null,
   "metadata": {},
   "outputs": [],
   "source": [
    "for filelist in flist:\n",
    "    fstr=filelist.split('_')\n",
    "    #fstr(3) = randomseed\n",
    "    for i in range(len(flist)):\n",
    "        for j in range(len(flist)):\n",
    "            if i == j:\n",
    "                continue\n",
    "            if flist[i].split('_')[3] == flist[j].split('_')[3]:\n",
    "                print( flist[i] + '=' + flist[j])"
   ]
  },
  {
   "cell_type": "code",
   "execution_count": null,
   "metadata": {},
   "outputs": [],
   "source": [
    "if flist[0].split('_')[3] == flist[40].split('_')[3]:\n",
    "    print('yes')\n",
    "else:\n",
    "    print('no')"
   ]
  },
  {
   "cell_type": "code",
   "execution_count": null,
   "metadata": {},
   "outputs": [],
   "source": [
    "for filelist in flist:\n",
    "    fstr=filelist.split('_')\n",
    "    #fstr(3) = randomseed\n",
    "    for i in range(len(flist)):\n",
    "        for j in range(len(flist)):\n",
    "            if i == j:\n",
    "                continue\n",
    "            if flist[i].split('_')[3] == flist[j].split('_')[3]:\n",
    "                if flist[i].split('_')[2] == flist[j].split('_')[2]:\n",
    "                    print( flist[i] + '=' + flist[j])"
   ]
  },
  {
   "cell_type": "code",
   "execution_count": null,
   "metadata": {},
   "outputs": [],
   "source": [
    "fnpy= os.listdir(\"./data/npy_10000/npy\")"
   ]
  },
  {
   "cell_type": "code",
   "execution_count": null,
   "metadata": {},
   "outputs": [],
   "source": [
    "a1=np.load('./data/npy_10000/npy/generated_6_0_2921_part_1.npy')\n",
    "a2=np.load('./data/npy_10000/npy/generated_6_0_2921_part_2.npy')\n",
    "a3=np.load('./data/npy_10000/npy/generated_6_0_2921_part_3.npy')\n",
    "a4=np.load('./data/npy_10000/npy/generated_6_0_2921_part_4.npy')\n",
    "a5=np.load('./data/npy_10000/npy/generated_6_0_2921_part_5.npy')\n",
    "a6=np.load('./data/npy_10000/npy/generated_6_0_2921_part_6.npy')"
   ]
  },
  {
   "cell_type": "code",
   "execution_count": null,
   "metadata": {},
   "outputs": [],
   "source": [
    "print(a1.mean(axis=0))\n",
    "print(a2.mean(axis=0))\n",
    "print(a3.mean(axis=0))\n",
    "print(a4.mean(axis=0))\n",
    "print(a5.mean(axis=0))\n",
    "print(a6.mean(axis=0))"
   ]
  },
  {
   "cell_type": "code",
   "execution_count": null,
   "metadata": {},
   "outputs": [],
   "source": [
    "b1=np.load('./data/npy_10000/npy/generated_8_0_638880_part_1.npy')\n",
    "b2=np.load('./data/npy_10000/npy/generated_8_0_638880_part_2.npy')\n",
    "b3=np.load('./data/npy_10000/npy/generated_8_0_638880_part_3.npy')\n",
    "b4=np.load('./data/npy_10000/npy/generated_8_0_638880_part_4.npy')\n",
    "b5=np.load('./data/npy_10000/npy/generated_8_0_638880_part_5.npy')\n",
    "b6=np.load('./data/npy_10000/npy/generated_8_0_638880_part_6.npy')\n",
    "b7=np.load('./data/npy_10000/npy/generated_8_0_638880_part_7.npy')\n",
    "b8=np.load('./data/npy_10000/npy/generated_8_0_638880_part_8.npy')"
   ]
  },
  {
   "cell_type": "code",
   "execution_count": null,
   "metadata": {},
   "outputs": [],
   "source": [
    "print(b1.mean(axis=0))\n",
    "print(b2.mean(axis=0))\n",
    "print(b3.mean(axis=0))\n",
    "print(b4.mean(axis=0))\n",
    "print(b5.mean(axis=0))\n",
    "print(b6.mean(axis=0))\n",
    "print(b7.mean(axis=0))\n",
    "print(b8.mean(axis=0))"
   ]
  },
  {
   "cell_type": "code",
   "execution_count": null,
   "metadata": {},
   "outputs": [],
   "source": [
    "c=np.load('./data/npy_10000/npy/'+fnpy[0])\n",
    "e= np.zeros(c.shape)\n",
    "e.shape"
   ]
  },
  {
   "cell_type": "code",
   "execution_count": null,
   "metadata": {},
   "outputs": [],
   "source": [
    "print(c.shape)\n",
    "print(d.shape)\n",
    "print(c.mean(axis=0))"
   ]
  },
  {
   "cell_type": "code",
   "execution_count": null,
   "metadata": {},
   "outputs": [],
   "source": [
    "for i in range(len(c)):\n",
    "    for j in range(3):\n",
    "        d[i][j]=c[i][j]-c.mean(axis=0)[j]\n",
    "        "
   ]
  },
  {
   "cell_type": "code",
   "execution_count": null,
   "metadata": {},
   "outputs": [],
   "source": [
    "c.mean(axis=0)\n",
    "d.mean(axis=0)"
   ]
  },
  {
   "cell_type": "code",
   "execution_count": null,
   "metadata": {},
   "outputs": [],
   "source": [
    "print(c.max(axis=0))\n",
    "print(d.max(axis=0))"
   ]
  },
  {
   "cell_type": "code",
   "execution_count": null,
   "metadata": {},
   "outputs": [],
   "source": [
    "for k in range(3):\n",
    "    original=np.load('./data/npy_10000/npy/'+fnpy[k])\n",
    "    target = np.zeros(original.shape)\n",
    "    for i in range(len(original)):\n",
    "        for j in range(3):\n",
    "            target[i][j]=original[i][j]-original.mean(axis=0)[j]\n",
    "    print(target.mean(axis=0))\n",
    "    np.save('./data/npy_10000/resized/'+fnpy[k], target)\n",
    "        \n",
    "        "
   ]
  },
  {
   "cell_type": "code",
   "execution_count": null,
   "metadata": {},
   "outputs": [],
   "source": [
    "t=np.load('./data/npy_10000/resized/generated_14_0_795109_part_11.npy')"
   ]
  },
  {
   "cell_type": "code",
   "execution_count": null,
   "metadata": {},
   "outputs": [],
   "source": [
    "t.mean(axis=0)"
   ]
  },
  {
   "cell_type": "code",
   "execution_count": null,
   "metadata": {},
   "outputs": [],
   "source": [
    "f = h5py.File('./data/list_1.h5')\n",
    "data = f['data'][:]\n",
    "label = f['label'][:]\n",
    "shards = f['shards'][:]"
   ]
  },
  {
   "cell_type": "code",
   "execution_count": null,
   "metadata": {},
   "outputs": [],
   "source": [
    "shards.shape"
   ]
  },
  {
   "cell_type": "code",
   "execution_count": null,
   "metadata": {},
   "outputs": [],
   "source": [
    "shards[0]"
   ]
  },
  {
   "cell_type": "code",
   "execution_count": null,
   "metadata": {},
   "outputs": [],
   "source": [
    "int(shards[0])"
   ]
  },
  {
   "cell_type": "code",
   "execution_count": null,
   "metadata": {},
   "outputs": [],
   "source": [
    "a=np.squeeze(shards)"
   ]
  },
  {
   "cell_type": "code",
   "execution_count": null,
   "metadata": {},
   "outputs": [],
   "source": [
    "a.shape"
   ]
  },
  {
   "cell_type": "code",
   "execution_count": null,
   "metadata": {},
   "outputs": [],
   "source": [
    "shards.shape"
   ]
  },
  {
   "cell_type": "code",
   "execution_count": null,
   "metadata": {},
   "outputs": [],
   "source": [
    "label.shape"
   ]
  },
  {
   "cell_type": "code",
   "execution_count": null,
   "metadata": {},
   "outputs": [],
   "source": [
    "b=np.squeeze(label)"
   ]
  },
  {
   "cell_type": "code",
   "execution_count": null,
   "metadata": {},
   "outputs": [],
   "source": [
    "b.shape"
   ]
  },
  {
   "cell_type": "code",
   "execution_count": null,
   "metadata": {},
   "outputs": [],
   "source": [
    "data.shape"
   ]
  },
  {
   "cell_type": "code",
   "execution_count": null,
   "metadata": {},
   "outputs": [],
   "source": [
    "sess=tf.InteractiveSession()"
   ]
  },
  {
   "cell_type": "code",
   "execution_count": null,
   "metadata": {},
   "outputs": [],
   "source": [
    "a= tf.constant( [[1,1,1,1],[2,2,2,2],[3,3,3,3],[4,4,4,4],[5,5,5,5]])\n",
    "b=tf.constant([[1,2,3,4]])"
   ]
  },
  {
   "cell_type": "code",
   "execution_count": null,
   "metadata": {},
   "outputs": [],
   "source": [
    "c=tf.matmul(a,b,transpose_b=True)"
   ]
  },
  {
   "cell_type": "code",
   "execution_count": null,
   "metadata": {},
   "outputs": [],
   "source": [
    "c=tf.Print(c,[c], message=\"this is c:\")"
   ]
  },
  {
   "cell_type": "code",
   "execution_count": null,
   "metadata": {},
   "outputs": [],
   "source": [
    "d=tf.add(c,c)"
   ]
  },
  {
   "cell_type": "code",
   "execution_count": null,
   "metadata": {},
   "outputs": [],
   "source": [
    "d.eval()"
   ]
  },
  {
   "cell_type": "code",
   "execution_count": null,
   "metadata": {},
   "outputs": [],
   "source": [
    "f=tf.multiply(a,b)"
   ]
  },
  {
   "cell_type": "code",
   "execution_count": null,
   "metadata": {},
   "outputs": [],
   "source": [
    "g=tf.Print(f,[f],message=\"asdf\")"
   ]
  },
  {
   "cell_type": "code",
   "execution_count": null,
   "metadata": {},
   "outputs": [],
   "source": [
    "h=tf.add(g,g)"
   ]
  },
  {
   "cell_type": "code",
   "execution_count": null,
   "metadata": {},
   "outputs": [],
   "source": [
    "h.eval()"
   ]
  },
  {
   "cell_type": "code",
   "execution_count": null,
   "metadata": {},
   "outputs": [],
   "source": [
    "folder=os.listdir('./data/npy_10000/one')"
   ]
  },
  {
   "cell_type": "code",
   "execution_count": null,
   "metadata": {},
   "outputs": [],
   "source": [
    "a1=np.load('./data/npy_10000/one/generated_5_0_604719_part_1.npy')\n",
    "a2=np.load('./data/npy_10000/one/generated_5_0_604719_part_2.npy')\n",
    "a3=np.load('./data/npy_10000/one/generated_5_0_604719_part_3.npy')\n",
    "a4=np.load('./data/npy_10000/one/generated_5_0_604719_part_4.npy')\n",
    "a5=np.load('./data/npy_10000/one/generated_5_0_604719_part_5.npy')"
   ]
  },
  {
   "cell_type": "code",
   "execution_count": null,
   "metadata": {},
   "outputs": [],
   "source": [
    "print(a1)"
   ]
  },
  {
   "cell_type": "code",
   "execution_count": null,
   "metadata": {},
   "outputs": [],
   "source": [
    "a1.mean(axis=0)"
   ]
  },
  {
   "cell_type": "code",
   "execution_count": null,
   "metadata": {},
   "outputs": [],
   "source": [
    "a1"
   ]
  },
  {
   "cell_type": "code",
   "execution_count": null,
   "metadata": {},
   "outputs": [],
   "source": [
    "b1=a1[0:2048]\n",
    "b2=a2[0:2048]\n",
    "b3=a3[0:2048]\n",
    "b4=a4[0:2048]\n",
    "b5=a5[0:2048]"
   ]
  },
  {
   "cell_type": "code",
   "execution_count": null,
   "metadata": {},
   "outputs": [],
   "source": [
    "b1.shape"
   ]
  },
  {
   "cell_type": "code",
   "execution_count": null,
   "metadata": {},
   "outputs": [],
   "source": [
    "c1=np.reshape(b1,(-1,2048,3))\n",
    "c2=np.reshape(b2,(-1,2048,3))\n",
    "c3=np.reshape(b3,(-1,2048,3))\n",
    "c4=np.reshape(b4,(-1,2048,3))\n",
    "c5=np.reshape(b5,(-1,2048,3))"
   ]
  },
  {
   "cell_type": "code",
   "execution_count": null,
   "metadata": {},
   "outputs": [],
   "source": [
    "c1.shape"
   ]
  },
  {
   "cell_type": "code",
   "execution_count": null,
   "metadata": {},
   "outputs": [],
   "source": [
    "c=np.concatenate((c1,c2,c3,c4,c5),axis=0)"
   ]
  },
  {
   "cell_type": "code",
   "execution_count": null,
   "metadata": {},
   "outputs": [],
   "source": [
    "c.shape"
   ]
  },
  {
   "cell_type": "code",
   "execution_count": null,
   "metadata": {},
   "outputs": [],
   "source": [
    "c[0].mean(axis=0)"
   ]
  },
  {
   "cell_type": "code",
   "execution_count": null,
   "metadata": {},
   "outputs": [],
   "source": [
    "print(c[0])"
   ]
  },
  {
   "cell_type": "code",
   "execution_count": null,
   "metadata": {},
   "outputs": [],
   "source": [
    "print(a1)"
   ]
  },
  {
   "cell_type": "code",
   "execution_count": null,
   "metadata": {},
   "outputs": [],
   "source": [
    "b1.mean(axis=0)"
   ]
  },
  {
   "cell_type": "code",
   "execution_count": null,
   "metadata": {},
   "outputs": [],
   "source": [
    "np.mean(c[0],axis=1)"
   ]
  },
  {
   "cell_type": "code",
   "execution_count": null,
   "metadata": {},
   "outputs": [],
   "source": [
    "for i in range(c.shape[0]):\n",
    "    print(c[i].mean(axis=0))"
   ]
  },
  {
   "cell_type": "code",
   "execution_count": null,
   "metadata": {},
   "outputs": [],
   "source": [
    "a1.mean(axis=0)"
   ]
  },
  {
   "cell_type": "code",
   "execution_count": null,
   "metadata": {},
   "outputs": [],
   "source": [
    "d1=a1\n",
    "np.random.shuffle(d1)"
   ]
  },
  {
   "cell_type": "code",
   "execution_count": null,
   "metadata": {},
   "outputs": [],
   "source": [
    "d1"
   ]
  },
  {
   "cell_type": "code",
   "execution_count": null,
   "metadata": {},
   "outputs": [],
   "source": [
    "d1.mean(axis=0)"
   ]
  },
  {
   "cell_type": "code",
   "execution_count": null,
   "metadata": {},
   "outputs": [],
   "source": [
    "one=np.load('./data/fullpottery/one.npy')"
   ]
  },
  {
   "cell_type": "code",
   "execution_count": null,
   "metadata": {},
   "outputs": [],
   "source": [
    "one.shape"
   ]
  },
  {
   "cell_type": "code",
   "execution_count": null,
   "metadata": {},
   "outputs": [],
   "source": [
    "pottery_one=np.load('./data/fullpottery/one.npy')\n",
    "pottery_two=np.load('./data/fullpottery/two.npy')\n",
    "pottery_three=np.load('./data/fullpottery/three.npy')\n",
    "pottery_four=np.load('./data/fullpottery/four.npy')\n",
    "pottery_five=np.load('./data/fullpottery/five.npy')"
   ]
  },
  {
   "cell_type": "code",
   "execution_count": null,
   "metadata": {},
   "outputs": [],
   "source": [
    "pottery_one=np.reshape(pottery_one,(1,2048,3))\n",
    "pottery_two=np.reshape(pottery_two,(1,2048,3))\n",
    "pottery_three=np.reshape(pottery_three,(1,2048,3))\n",
    "pottery_four=np.reshape(pottery_four,(1,2048,3))\n",
    "pottery_five=np.reshape(pottery_five,(1,2048,3))"
   ]
  },
  {
   "cell_type": "code",
   "execution_count": null,
   "metadata": {},
   "outputs": [],
   "source": [
    "pottery_one.shape\n",
    "\n"
   ]
  },
  {
   "cell_type": "code",
   "execution_count": null,
   "metadata": {},
   "outputs": [],
   "source": [
    "pottery_one[0].shape"
   ]
  },
  {
   "cell_type": "code",
   "execution_count": null,
   "metadata": {},
   "outputs": [],
   "source": [
    "pottery=np.concatenate((pottery_one,pottery_two,pottery_three,pottery_four,pottery_five),axis=0)"
   ]
  },
  {
   "cell_type": "code",
   "execution_count": null,
   "metadata": {},
   "outputs": [],
   "source": [
    "pottery.shape"
   ]
  },
  {
   "cell_type": "code",
   "execution_count": null,
   "metadata": {},
   "outputs": [],
   "source": [
    "pottery[0]"
   ]
  },
  {
   "cell_type": "code",
   "execution_count": null,
   "metadata": {},
   "outputs": [],
   "source": [
    "potter"
   ]
  },
  {
   "cell_type": "code",
   "execution_count": null,
   "metadata": {},
   "outputs": [],
   "source": [
    "a=[1,2,3,4]\n",
    "b=[2,2,2,2]\n",
    "c=tf.reduce_prod((a,b))"
   ]
  },
  {
   "cell_type": "code",
   "execution_count": null,
   "metadata": {},
   "outputs": [],
   "source": [
    "c=tf.Print(c,[c], message=\"this is c:\")"
   ]
  },
  {
   "cell_type": "code",
   "execution_count": null,
   "metadata": {},
   "outputs": [],
   "source": [
    "current_seg=[[1,1,0],[0,1,0],[0,0,1]]\n",
    "y_seg=np.zeros((10,8), dtype=int)\n",
    "y_seg0=np.zeros((10,1), dtype=int)"
   ]
  },
  {
   "cell_type": "code",
   "execution_count": null,
   "metadata": {},
   "outputs": [],
   "source": [
    "for i in range(3):\n",
    "    rs_seg0 = current_seg[i][0]*4+current_seg[i][1]*2+current_seg[i][2]\n",
    "    rs_seg = np.eye(8)[rs_seg0] \n",
    "    print(rs_seg0)\n",
    "    print(rs_seg)\n",
    "    y_seg[i]=rs_seg\n",
    "    y_seg0[i][0]=rs_seg0"
   ]
  },
  {
   "cell_type": "code",
   "execution_count": null,
   "metadata": {},
   "outputs": [],
   "source": [
    "print(y_seg)"
   ]
  },
  {
   "cell_type": "code",
   "execution_count": null,
   "metadata": {},
   "outputs": [],
   "source": [
    "print(y_seg0)"
   ]
  },
  {
   "cell_type": "code",
   "execution_count": null,
   "metadata": {},
   "outputs": [],
   "source": [
    "y_seg.shape"
   ]
  },
  {
   "cell_type": "code",
   "execution_count": null,
   "metadata": {},
   "outputs": [],
   "source": [
    "# a1=np.load(\"/data2/codes/pottery/data/npy_10000/one/generated_5_0_637448_part_1.npy\")\n",
    "# a2=np.load(\"/data2/codes/pottery/data/npy_10000/one/generated_5_0_637448_part_2.npy\")\n",
    "# a3=np.load(\"/data2/codes/pottery/data/npy_10000/one/generated_5_0_637448_part_3.npy\")\n",
    "# a4=np.load(\"/data2/codes/pottery/data/npy_10000/one/generated_5_0_637448_part_4.npy\")\n",
    "# a5=np.load(\"/data2/codes/pottery/data/npy_10000/one/generated_5_0_637448_part_5.npy\")\n",
    "\n",
    "# a1=np.load(\"/data2/codes/pottery/data/npy_10000/two/generated_5_0_454809_part_1.npy\")\n",
    "# a2=np.load(\"/data2/codes/pottery/data/npy_10000/two/generated_5_0_454809_part_2.npy\")\n",
    "# a3=np.load(\"/data2/codes/pottery/data/npy_10000/two/generated_5_0_454809_part_3.npy\")\n",
    "# a4=np.load(\"/data2/codes/pottery/data/npy_10000/two/generated_5_0_454809_part_4.npy\")\n",
    "# a5=np.load(\"/data2/codes/pottery/data/npy_10000/two/generated_5_0_454809_part_5.npy\")\n",
    "\n",
    "# a1=np.load(\"/data2/codes/pottery/data/npy_10000/three/generated_5_0_84096_part_1.npy\")\n",
    "# a2=np.load(\"/data2/codes/pottery/data/npy_10000/three/generated_5_0_84096_part_2.npy\")\n",
    "# a3=np.load(\"/data2/codes/pottery/data/npy_10000/three/generated_5_0_84096_part_3.npy\")\n",
    "# a4=np.load(\"/data2/codes/pottery/data/npy_10000/three/generated_5_0_84096_part_4.npy\")\n",
    "# a5=np.load(\"/data2/codes/pottery/data/npy_10000/three/generated_5_0_84096_part_5.npy\")\n",
    "\n",
    "# a1=np.load(\"/data2/codes/pottery/data/npy_10000/four/generated_5_0_50700_part_1.npy\")\n",
    "# a2=np.load(\"/data2/codes/pottery/data/npy_10000/four/generated_5_0_50700_part_2.npy\")\n",
    "# a3=np.load(\"/data2/codes/pottery/data/npy_10000/four/generated_5_0_50700_part_3.npy\")\n",
    "# a4=np.load(\"/data2/codes/pottery/data/npy_10000/four/generated_5_0_50700_part_4.npy\")\n",
    "# a5=np.load(\"/data2/codes/pottery/data/npy_10000/four/generated_5_0_50700_part_5.npy\")\n",
    "\n",
    "a1=np.load(\"/data2/codes/pottery/data/npy_10000/five/generated_5_0_56784_part_1.npy\")\n",
    "a2=np.load(\"/data2/codes/pottery/data/npy_10000/five/generated_5_0_56784_part_2.npy\")\n",
    "a3=np.load(\"/data2/codes/pottery/data/npy_10000/five/generated_5_0_56784_part_3.npy\")\n",
    "a4=np.load(\"/data2/codes/pottery/data/npy_10000/five/generated_5_0_56784_part_4.npy\")\n",
    "a5=np.load(\"/data2/codes/pottery/data/npy_10000/five/generated_5_0_56784_part_5.npy\")"
   ]
  },
  {
   "cell_type": "code",
   "execution_count": null,
   "metadata": {},
   "outputs": [],
   "source": [
    "a=np.concatenate((a1,a2,a3,a4,a5),axis=0)\n",
    "a_x=a[:,0]\n",
    "a_y=a[:,1]\n",
    "a_z=a[:,2]"
   ]
  },
  {
   "cell_type": "code",
   "execution_count": null,
   "metadata": {},
   "outputs": [],
   "source": [
    "print(np.amax(a_x), np.amin(a_x),'\\n', np.amax(a_y), np.amin(a_y), '\\n', np.amax(a_z), np.amin(a_z))"
   ]
  },
  {
   "cell_type": "code",
   "execution_count": null,
   "metadata": {},
   "outputs": [],
   "source": [
    "np.mean(a[:,1])"
   ]
  },
  {
   "cell_type": "code",
   "execution_count": null,
   "metadata": {},
   "outputs": [],
   "source": [
    "ymax=194.373\n",
    "ymin=-194.371"
   ]
  },
  {
   "cell_type": "code",
   "execution_count": null,
   "metadata": {},
   "outputs": [],
   "source": [
    "print(ymax,ymin)"
   ]
  },
  {
   "cell_type": "code",
   "execution_count": null,
   "metadata": {},
   "outputs": [],
   "source": [
    "ymax,ymin=108.7, -108.3"
   ]
  },
  {
   "cell_type": "code",
   "execution_count": null,
   "metadata": {},
   "outputs": [],
   "source": [
    "t=[1,2,3]\n",
    "print(t[0],t[2])"
   ]
  },
  {
   "cell_type": "code",
   "execution_count": null,
   "metadata": {},
   "outputs": [],
   "source": [
    "temp_j_seg=[0,0,0]\n",
    "temp_j_seg[0]=(np.amax(a[:,1])-ymin)/(ymax-ymin)\n",
    "temp_j_seg[1]=(np.mean(a[:,1])-ymin)/(ymax-ymin)\n",
    "temp_j_seg[2]=(np.amin(a[:,1])-ymin)/(ymax-ymin)"
   ]
  },
  {
   "cell_type": "code",
   "execution_count": null,
   "metadata": {},
   "outputs": [],
   "source": [
    "temp_j_seg"
   ]
  },
  {
   "cell_type": "code",
   "execution_count": null,
   "metadata": {},
   "outputs": [],
   "source": [
    "bins=np.linspace(0,1,11)"
   ]
  },
  {
   "cell_type": "code",
   "execution_count": null,
   "metadata": {},
   "outputs": [],
   "source": [
    "bins"
   ]
  },
  {
   "cell_type": "code",
   "execution_count": null,
   "metadata": {},
   "outputs": [],
   "source": [
    "label=np.digitize(temp_j_seg,bins)-1"
   ]
  },
  {
   "cell_type": "code",
   "execution_count": null,
   "metadata": {},
   "outputs": [],
   "source": [
    "label"
   ]
  },
  {
   "cell_type": "code",
   "execution_count": null,
   "metadata": {},
   "outputs": [],
   "source": [
    "label[0]"
   ]
  },
  {
   "cell_type": "code",
   "execution_count": null,
   "metadata": {},
   "outputs": [],
   "source": [
    "labe1=[[5, 2, 0]]"
   ]
  },
  {
   "cell_type": "code",
   "execution_count": null,
   "metadata": {},
   "outputs": [],
   "source": [
    "labe1[0][1]"
   ]
  },
  {
   "cell_type": "code",
   "execution_count": null,
   "metadata": {},
   "outputs": [],
   "source": [
    "ttt=[0.1, 0.00000000000000000000000000000000000000000000000000001, 0.33]"
   ]
  },
  {
   "cell_type": "code",
   "execution_count": null,
   "metadata": {},
   "outputs": [],
   "source": [
    "label=np.digitize(ttt,bins)-1\n",
    "print(label)"
   ]
  },
  {
   "cell_type": "code",
   "execution_count": null,
   "metadata": {},
   "outputs": [],
   "source": [
    "values = [9, 0, 7]\n",
    "n_values = np.max(values) + 1\n",
    "np.eye(n_values)[values]"
   ]
  },
  {
   "cell_type": "code",
   "execution_count": null,
   "metadata": {},
   "outputs": [],
   "source": [
    "np.eye(n_values)[values].shape"
   ]
  },
  {
   "cell_type": "code",
   "execution_count": null,
   "metadata": {},
   "outputs": [],
   "source": [
    "labels = tf.one_hot(indices=values, depth=10)"
   ]
  },
  {
   "cell_type": "code",
   "execution_count": null,
   "metadata": {},
   "outputs": [],
   "source": [
    "labels"
   ]
  },
  {
   "cell_type": "markdown",
   "metadata": {},
   "source": [
    "---\n",
    "1번 도자기만 train/test"
   ]
  },
  {
   "cell_type": "code",
   "execution_count": null,
   "metadata": {},
   "outputs": [],
   "source": [
    "np.pi"
   ]
  },
  {
   "cell_type": "code",
   "execution_count": null,
   "metadata": {},
   "outputs": [],
   "source": [
    "angle_sigma=np.pi/2\n",
    "angle_clip=np.pi"
   ]
  },
  {
   "cell_type": "code",
   "execution_count": null,
   "metadata": {},
   "outputs": [],
   "source": [
    "angles=np.clip(angle_sigma*np.random.randn(3), -angle_clip, angle_clip)"
   ]
  },
  {
   "cell_type": "code",
   "execution_count": null,
   "metadata": {},
   "outputs": [],
   "source": [
    "angles"
   ]
  },
  {
   "cell_type": "code",
   "execution_count": null,
   "metadata": {},
   "outputs": [],
   "source": [
    "np.cos(angles[0])"
   ]
  },
  {
   "cell_type": "code",
   "execution_count": null,
   "metadata": {},
   "outputs": [],
   "source": [
    "import ipyvolume as ipv\n",
    "s1=np.load(\"/data2/codes/pottery/data/npy_10000/three/generated_9_0_984692_part_5.npy\")\n",
    "ax=s1[:,0]\n",
    "ay=s1[:,1]\n",
    "az=s1[:,2]\n",
    "ipv.figure()\n",
    "mx=ax-np.mean(ax)\n",
    "my=ay-np.mean(ay)\n",
    "mz=az-np.mean(az)\n",
    "ipv.quickscatter(-mx,-my,mz,size=0.2, marker=\"sphere\", )\n",
    "L=200\n",
    "ipv.xlim(-L,L)\n",
    "ipv.ylim(-L,L)\n",
    "ipv.zlim(-L,L)\n",
    "ipv.show()"
   ]
  },
  {
   "cell_type": "code",
   "execution_count": 12,
   "metadata": {},
   "outputs": [
    {
     "name": "stdout",
     "output_type": "stream",
     "text": [
      "generated_9_0_990664_part_1.npy\n",
      "(128, 3)\n",
      "generated_9_0_990664_part_2.npy\n",
      "(128, 3)\n",
      "generated_9_0_990664_part_3.npy\n",
      "(128, 3)\n",
      "generated_9_0_990664_part_4.npy\n",
      "(128, 3)\n",
      "generated_9_0_990664_part_5.npy\n",
      "(128, 3)\n",
      "generated_9_0_990664_part_6.npy\n",
      "(128, 3)\n",
      "generated_9_0_990664_part_7.npy\n",
      "(128, 3)\n",
      "generated_9_0_990664_part_8.npy\n",
      "(128, 3)\n",
      "generated_9_0_990664_part_9.npy\n",
      "(128, 3)\n",
      "(1153, 3)\n",
      "1153\n"
     ]
    }
   ],
   "source": [
    "import os\n",
    "import ipyvolume as p3\n",
    "import numpy as np\n",
    "from ipywidgets import FloatSlider, ColorPicker, VBox, jslink\n",
    "folder=os.listdir(\"/data2/codes/pottery/data/npy_10000/five/\")\n",
    "a=np.zeros((1,3),dtype=np.uint8)\n",
    "# for files in folder:\n",
    "#     if '_990664_' in files:\n",
    "for i in range(9):\n",
    "    temp=np.load(\"/data2/codes/pottery/data/npy_10000/five/generated_9_0_990664_part_\"+str(i+1)+\".npy\")\n",
    "    temp1=temp[:128]\n",
    "    print(\"generated_9_0_990664_part_\"+str(i+1)+\".npy\")\n",
    "    print(temp1.shape)\n",
    "    a=np.concatenate((a,temp1),axis=0)\n",
    "print(a.shape)\n",
    "bx=a[:,0]\n",
    "by=a[:,1]\n",
    "bz=a[:,2]\n",
    "print(len(by))"
   ]
  },
  {
   "cell_type": "code",
   "execution_count": null,
   "metadata": {},
   "outputs": [],
   "source": [
    "p3.figure()\n",
    "ycolor=['red' if value>0 else 'yellow' for value in by]\n",
    "p3.scatter(bx,-by,bz,size=0.2, marker=\"sphere\",color=ycolor)\n",
    "# p3.quickscatter(bx,-by,bz,size=0.2, marker=\"sphere\")\n",
    "L=900\n",
    "p3.xlim(-L,L)\n",
    "p3.ylim(-L,L)\n",
    "p3.zlim(-L,L)\n",
    "p3.show()"
   ]
  },
  {
   "cell_type": "code",
   "execution_count": null,
   "metadata": {},
   "outputs": [],
   "source": [
    "shard=np.load(\"/data2/codes/pottery/data/npy_10000/five/generated_9_0_990664_part_3.npy\")\n",
    "sx=shard[:,0]\n",
    "sy=shard[:,1]\n",
    "sz=shard[:,2]\n",
    "ymax=np.max(sy)\n",
    "ymean=np.mean(sy)\n",
    "ymin=np.min(sy)\n",
    "ycolor=['yellow' if value >(ymax+ymean)/2 or value < (ymax+ymean)/2 else 'red' for value in by]\n",
    "p3.figure()\n",
    "p3.scatter(bx,-by,bz,size=0.2, marker=\"sphere\",color=ycolor)\n",
    "L=900\n",
    "p3.xlim(-L,L)\n",
    "p3.ylim(-L,L)\n",
    "p3.zlim(-L,L)\n",
    "p3.show()"
   ]
  },
  {
   "cell_type": "code",
   "execution_count": null,
   "metadata": {},
   "outputs": [],
   "source": [
    "temp.shape"
   ]
  },
  {
   "cell_type": "code",
   "execution_count": null,
   "metadata": {},
   "outputs": [],
   "source": [
    "temp[:2048]"
   ]
  },
  {
   "cell_type": "code",
   "execution_count": null,
   "metadata": {},
   "outputs": [],
   "source": []
  }
 ],
 "metadata": {
  "kernelspec": {
   "display_name": "Python 3",
   "language": "python",
   "name": "python3"
  },
  "language_info": {
   "codemirror_mode": {
    "name": "ipython",
    "version": 3
   },
   "file_extension": ".py",
   "mimetype": "text/x-python",
   "name": "python",
   "nbconvert_exporter": "python",
   "pygments_lexer": "ipython3",
   "version": "3.5.6"
  }
 },
 "nbformat": 4,
 "nbformat_minor": 2
}
