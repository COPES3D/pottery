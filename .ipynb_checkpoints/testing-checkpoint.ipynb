{
 "cells": [
  {
   "cell_type": "code",
   "execution_count": 1,
   "metadata": {},
   "outputs": [],
   "source": [
    "import os\n",
    "import numpy as np\n",
    "import h5py\n",
    "from random import *"
   ]
  },
  {
   "cell_type": "code",
   "execution_count": null,
   "metadata": {},
   "outputs": [],
   "source": [
    "flist=os.listdir(\"./data/npy_10000/list\")"
   ]
  },
  {
   "cell_type": "code",
   "execution_count": null,
   "metadata": {},
   "outputs": [],
   "source": [
    "max_shards=20"
   ]
  },
  {
   "cell_type": "code",
   "execution_count": null,
   "metadata": {},
   "outputs": [],
   "source": [
    "flist1=flist[:2000]\n",
    "flist2=flist[2000:]"
   ]
  },
  {
   "cell_type": "code",
   "execution_count": null,
   "metadata": {
    "scrolled": true
   },
   "outputs": [],
   "source": [
    "# shards>20 print\n",
    "for filelist in flist2:\n",
    "    fstr=filelist.split('_')\n",
    "#     print(file)\n",
    "    filenames=[line.rstrip() for line in open(\"./data/npy_10000/list/\"+filelist,'r')]\n",
    "    temp_list=[]\n",
    "    temp_label=[]\n",
    "    for i in range(0,len(filenames)): #한 도자기 마다 생성중\n",
    "        if filenames[i]==\"\":\n",
    "            continue\n",
    "        npydata=np.load(\"./data/npy_10000/npy/\"+filenames[i]+\".npy\")\n",
    "        np.random.shuffle(npydata)\n",
    "        if npydata.shape[0]<2048:\n",
    "            continue\n",
    "        else:\n",
    "            temp_j_list=[]\n",
    "            for j in range(0,2048):\n",
    "                temp_j_list.append([npydata[j][0], npydata[j][1], npydata[j][2]])\n",
    "            \n",
    "            temp_list.append(temp_j_list)\n",
    "            temp_label.append(int(fstr[1])-1)\n",
    "\n",
    "    if len(temp_list) > max_shards:\n",
    "        print(\"filenames: \"+str(filenames))\n",
    "#         print(\"randomseed: \"+fstr(3))\n",
    "\n"
   ]
  },
  {
   "cell_type": "code",
   "execution_count": null,
   "metadata": {},
   "outputs": [],
   "source": [
    "len(flist)"
   ]
  },
  {
   "cell_type": "code",
   "execution_count": null,
   "metadata": {},
   "outputs": [],
   "source": [
    "for filelist in flist:\n",
    "    fstr=filelist.split('_')\n",
    "    #fstr(3) = randomseed\n",
    "    for i in range(len(flist)):\n",
    "        for j in range(len(flist)):\n",
    "            if i == j:\n",
    "                continue\n",
    "            if flist[i].split('_')[3] == flist[j].split('_')[3]:\n",
    "                print( flist[i] + '=' + flist[j])"
   ]
  },
  {
   "cell_type": "code",
   "execution_count": null,
   "metadata": {},
   "outputs": [],
   "source": [
    "if flist[0].split('_')[3] == flist[40].split('_')[3]:\n",
    "    print('yes')\n",
    "else:\n",
    "    print('no')"
   ]
  },
  {
   "cell_type": "code",
   "execution_count": null,
   "metadata": {},
   "outputs": [],
   "source": [
    "for filelist in flist:\n",
    "    fstr=filelist.split('_')\n",
    "    #fstr(3) = randomseed\n",
    "    for i in range(len(flist)):\n",
    "        for j in range(len(flist)):\n",
    "            if i == j:\n",
    "                continue\n",
    "            if flist[i].split('_')[3] == flist[j].split('_')[3]:\n",
    "                if flist[i].split('_')[2] == flist[j].split('_')[2]:\n",
    "                    print( flist[i] + '=' + flist[j])"
   ]
  },
  {
   "cell_type": "code",
   "execution_count": 2,
   "metadata": {},
   "outputs": [],
   "source": [
    "fnpy= os.listdir(\"./data/npy_10000/npy\")"
   ]
  },
  {
   "cell_type": "code",
   "execution_count": 8,
   "metadata": {},
   "outputs": [],
   "source": [
    "a1=np.load('./data/npy_10000/npy/generated_6_0_2921_part_1.npy')\n",
    "a2=np.load('./data/npy_10000/npy/generated_6_0_2921_part_2.npy')\n",
    "a3=np.load('./data/npy_10000/npy/generated_6_0_2921_part_3.npy')\n",
    "a4=np.load('./data/npy_10000/npy/generated_6_0_2921_part_4.npy')\n",
    "a5=np.load('./data/npy_10000/npy/generated_6_0_2921_part_5.npy')\n",
    "a6=np.load('./data/npy_10000/npy/generated_6_0_2921_part_6.npy')"
   ]
  },
  {
   "cell_type": "code",
   "execution_count": 14,
   "metadata": {},
   "outputs": [
    {
     "name": "stdout",
     "output_type": "stream",
     "text": [
      "[120.49228469  28.16631203  -0.99127485]\n",
      "[  41.46314974  -34.87511202 -172.31135996]\n",
      "[161.80988876 -63.32285555 128.30674808]\n",
      "[-55.65114489 -33.33333855 168.06242454]\n",
      "[ 1.60755722 72.13297312 23.37549067]\n",
      "[-116.22557156   18.13123947  -36.78805373]\n"
     ]
    }
   ],
   "source": [
    "print(a1.mean(axis=0))\n",
    "print(a2.mean(axis=0))\n",
    "print(a3.mean(axis=0))\n",
    "print(a4.mean(axis=0))\n",
    "print(a5.mean(axis=0))\n",
    "print(a6.mean(axis=0))"
   ]
  },
  {
   "cell_type": "code",
   "execution_count": 16,
   "metadata": {},
   "outputs": [],
   "source": [
    "b1=np.load('./data/npy_10000/npy/generated_8_0_638880_part_1.npy')\n",
    "b2=np.load('./data/npy_10000/npy/generated_8_0_638880_part_2.npy')\n",
    "b3=np.load('./data/npy_10000/npy/generated_8_0_638880_part_3.npy')\n",
    "b4=np.load('./data/npy_10000/npy/generated_8_0_638880_part_4.npy')\n",
    "b5=np.load('./data/npy_10000/npy/generated_8_0_638880_part_5.npy')\n",
    "b6=np.load('./data/npy_10000/npy/generated_8_0_638880_part_6.npy')\n",
    "b7=np.load('./data/npy_10000/npy/generated_8_0_638880_part_7.npy')\n",
    "b8=np.load('./data/npy_10000/npy/generated_8_0_638880_part_8.npy')"
   ]
  },
  {
   "cell_type": "code",
   "execution_count": 17,
   "metadata": {},
   "outputs": [
    {
     "name": "stdout",
     "output_type": "stream",
     "text": [
      "[ 164.11532585   98.15554353 -160.3109571 ]\n",
      "[-182.87130734  -68.98318983  657.43835492]\n",
      "[258.3773954   41.30144742 292.30197959]\n",
      "[-647.46770833 -172.03204117 -670.26262133]\n",
      "[-618.16994977  -28.45187316  -17.82277606]\n",
      "[ 566.13529066 -101.21756742 -538.7384574 ]\n",
      "[745.3453974  -67.60725791   2.5147506 ]\n",
      "[-184.06988511   -1.34644332 -517.23153677]\n"
     ]
    }
   ],
   "source": [
    "print(b1.mean(axis=0))\n",
    "print(b2.mean(axis=0))\n",
    "print(b3.mean(axis=0))\n",
    "print(b4.mean(axis=0))\n",
    "print(b5.mean(axis=0))\n",
    "print(b6.mean(axis=0))\n",
    "print(b7.mean(axis=0))\n",
    "print(b8.mean(axis=0))"
   ]
  },
  {
   "cell_type": "code",
   "execution_count": 59,
   "metadata": {},
   "outputs": [
    {
     "data": {
      "text/plain": [
       "(2340, 3)"
      ]
     },
     "execution_count": 59,
     "metadata": {},
     "output_type": "execute_result"
    }
   ],
   "source": [
    "c=np.load('./data/npy_10000/npy/'+fnpy[0])\n",
    "e= np.zeros(c.shape)\n",
    "e.shape"
   ]
  },
  {
   "cell_type": "code",
   "execution_count": 46,
   "metadata": {},
   "outputs": [
    {
     "name": "stdout",
     "output_type": "stream",
     "text": [
      "(2340, 3)\n",
      "(2340, 3)\n",
      "[-149.47681226  -43.69274649  136.73700253]\n"
     ]
    }
   ],
   "source": [
    "print(c.shape)\n",
    "print(d.shape)\n",
    "print(c.mean(axis=0))"
   ]
  },
  {
   "cell_type": "code",
   "execution_count": 49,
   "metadata": {},
   "outputs": [],
   "source": [
    "for i in range(len(c)):\n",
    "    for j in range(3):\n",
    "        d[i][j]=c[i][j]-c.mean(axis=0)[j]\n",
    "        "
   ]
  },
  {
   "cell_type": "code",
   "execution_count": 50,
   "metadata": {},
   "outputs": [
    {
     "data": {
      "text/plain": [
       "array([-1.04929550e-13, -7.50730911e-14, -1.08804134e-13])"
      ]
     },
     "execution_count": 50,
     "metadata": {},
     "output_type": "execute_result"
    }
   ],
   "source": [
    "c.mean(axis=0)\n",
    "d.mean(axis=0)"
   ]
  },
  {
   "cell_type": "code",
   "execution_count": 52,
   "metadata": {},
   "outputs": [
    {
     "name": "stdout",
     "output_type": "stream",
     "text": [
      "[-99.95526367 -18.69689099 188.625428  ]\n",
      "[49.52154859 24.9958555  51.88842547]\n"
     ]
    }
   ],
   "source": [
    "print(c.max(axis=0))\n",
    "print(d.max(axis=0))"
   ]
  },
  {
   "cell_type": "code",
   "execution_count": 55,
   "metadata": {},
   "outputs": [],
   "source": [
    "for file in fnpy[0:3]:\n",
    "    for k in range(3):\n",
    "        original=np.load('./data/npy_10000/npy/'+fnpy[k])\n",
    "        target = np.zeros(original.shape)\n",
    "        \n",
    "        "
   ]
  },
  {
   "cell_type": "code",
   "execution_count": null,
   "metadata": {},
   "outputs": [],
   "source": []
  },
  {
   "cell_type": "code",
   "execution_count": null,
   "metadata": {},
   "outputs": [],
   "source": []
  },
  {
   "cell_type": "code",
   "execution_count": null,
   "metadata": {},
   "outputs": [],
   "source": []
  },
  {
   "cell_type": "code",
   "execution_count": null,
   "metadata": {},
   "outputs": [],
   "source": []
  },
  {
   "cell_type": "code",
   "execution_count": null,
   "metadata": {},
   "outputs": [],
   "source": []
  },
  {
   "cell_type": "code",
   "execution_count": null,
   "metadata": {},
   "outputs": [],
   "source": []
  },
  {
   "cell_type": "code",
   "execution_count": null,
   "metadata": {},
   "outputs": [],
   "source": []
  },
  {
   "cell_type": "code",
   "execution_count": null,
   "metadata": {},
   "outputs": [],
   "source": []
  },
  {
   "cell_type": "code",
   "execution_count": null,
   "metadata": {},
   "outputs": [],
   "source": []
  },
  {
   "cell_type": "code",
   "execution_count": null,
   "metadata": {},
   "outputs": [],
   "source": []
  },
  {
   "cell_type": "code",
   "execution_count": null,
   "metadata": {},
   "outputs": [],
   "source": []
  }
 ],
 "metadata": {
  "kernelspec": {
   "display_name": "Python 3",
   "language": "python",
   "name": "python3"
  },
  "language_info": {
   "codemirror_mode": {
    "name": "ipython",
    "version": 3
   },
   "file_extension": ".py",
   "mimetype": "text/x-python",
   "name": "python",
   "nbconvert_exporter": "python",
   "pygments_lexer": "ipython3",
   "version": "3.5.6"
  }
 },
 "nbformat": 4,
 "nbformat_minor": 2
}
