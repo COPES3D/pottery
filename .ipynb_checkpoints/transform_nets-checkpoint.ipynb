{
 "cells": [
  {
   "cell_type": "code",
   "execution_count": null,
   "metadata": {},
   "outputs": [],
   "source": [
    "import tensorflow as tf\n",
    "import numpy as np\n",
    "import sys\n",
    "import os\n",
    "BASE_DIR = os.path.dirname(os.path.abspath(__file__))\n",
    "sys.path.append(BASE_DIR)\n",
    "sys.path.append(os.path.join(BASE_DIR, '../utils'))\n",
    "import tf_util\n",
    "\n",
    "def input_transform_net(edge_feature, is_training, bn_decay=None, K=3, is_dist=False):\n",
    "  \"\"\" Input (XYZ) Transform Net, input is BxNx3 gray image\n",
    "    Return:\n",
    "      Transformation matrix of size 3xK \"\"\"\n",
    "  batch_size = edge_feature.get_shape()[0].value3\n",
    "  num_point = edge_feature.get_shape()[1].value\n",
    "\n",
    "  # input_image = tf.expand_dims(point_cloud, -1)\n",
    "  net = tf_util.conv2d(edge_feature, 64, [1,1],\n",
    "             padding='VALID', stride=[1,1],\n",
    "             bn=True, is_training=is_training,\n",
    "             scope='tconv1', bn_decay=bn_decay, is_dist=is_dist)\n",
    "  net = tf_util.conv2d(net, 128, [1,1],\n",
    "             padding='VALID', stride=[1,1],\n",
    "             bn=True, is_training=is_training,\n",
    "             scope='tconv2', bn_decay=bn_decay, is_dist=is_dist)\n",
    "  \n",
    "  net = tf.reduce_max(net, axis=-2, keep_dims=True)\n",
    "  \n",
    "  net = tf_util.conv2d(net, 1024, [1,1],\n",
    "             padding='VALID', stride=[1,1],\n",
    "             bn=True, is_training=is_training,\n",
    "             scope='tconv3', bn_decay=bn_decay, is_dist=is_dist)\n",
    "  net = tf_util.max_pool2d(net, [num_point,1],\n",
    "               padding='VALID', scope='tmaxpool')\n",
    "\n",
    "  net = tf.reshape(net, [batch_size, -1])\n",
    "  net = tf_util.fully_connected(net, 512, bn=True, is_training=is_training,\n",
    "                  scope='tfc1', bn_decay=bn_decay,is_dist=is_dist)\n",
    "  net = tf_util.fully_connected(net, 256, bn=True, is_training=is_training,\n",
    "                  scope='tfc2', bn_decay=bn_decay,is_dist=is_dist)\n",
    "\n",
    "  with tf.variable_scope('transform_XYZ') as sc:\n",
    "    # assert(K==3)\n",
    "    with tf.device('/cpu:0'):\n",
    "      weights = tf.get_variable('weights', [256, K*K],\n",
    "                    initializer=tf.constant_initializer(0.0),\n",
    "                    dtype=tf.float32)\n",
    "      biases = tf.get_variable('biases', [K*K],\n",
    "                   initializer=tf.constant_initializer(0.0),\n",
    "                   dtype=tf.float32)\n",
    "    biases += tf.constant(np.eye(K).flatten(), dtype=tf.float32)\n",
    "    transform = tf.matmul(net, weights)\n",
    "    transform = tf.nn.bias_add(transform, biases)\n",
    "\n",
    "  transform = tf.reshape(transform, [batch_size, K, K])\n",
    "  return transform"
   ]
  }
 ],
 "metadata": {
  "kernelspec": {
   "display_name": "Python 3",
   "language": "python",
   "name": "python3"
  },
  "language_info": {
   "codemirror_mode": {
    "name": "ipython",
    "version": 3
   },
   "file_extension": ".py",
   "mimetype": "text/x-python",
   "name": "python",
   "nbconvert_exporter": "python",
   "pygments_lexer": "ipython3",
   "version": "3.5.6"
  }
 },
 "nbformat": 4,
 "nbformat_minor": 2
}
