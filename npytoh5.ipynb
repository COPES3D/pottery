{
 "cells": [
  {
   "cell_type": "code",
   "execution_count": 2,
   "metadata": {},
   "outputs": [],
   "source": [
    "import os\n",
    "import numpy as np\n",
    "import h5py\n",
    "from random import *"
   ]
  },
  {
   "cell_type": "code",
   "execution_count": 11,
   "metadata": {},
   "outputs": [],
   "source": [
    "## 181023 데이터 10000개 짜리 만들기 - 일단 파일 하나당 .h5 하나씩 만들기 -> 나중에는 pointnet이나 dgcnn처럼 여러개를 묶어서 train.h5 로 만들예정\n",
    "fout=os.listdir(\"./data/npy_10000\")\n",
    "flist=os.listdir(\"./data/npy_10000/list\")\n",
    "max_shards=20\n",
    "for file in flist:\n",
    "#     print(file) # filelist_label_shards_randomseed_F\n",
    "    if 'filelist_1' in file:\n",
    "        fstr=file.split('_')\n",
    "        filenames=[line.rstrip() for line in open('./data/npy_10000/list/'+file,'r')] #print(filenames) : generated_shards_0_seed_part_part num\n",
    "    #     print(len(filenames)) : shards 수\n",
    "        f=h5py.File(\"./data/npy_10000/h5/\"+str(fstr[1])+'_'+str(fstr[2])+'_'+str(fstr[3])+\".h5\",'w') #label_shards_randomseed.h5\n",
    "        a_data = np.zeros((len(filenames),2048,3))\n",
    "        a_label = np.zeros((len(filenames), 1), dtype = np.uint8)\n",
    "        temp_list = []\n",
    "        temp_label = []\n",
    "        for i in range(0,len(filenames)):\n",
    "            if filenames[i]==\"\":\n",
    "                continue\n",
    "    #         print(filenames[i])\n",
    "            if str(fstr[3]) in filenames[i]:\n",
    "                npydata=np.load('./data/npy_10000/one/'+filenames[i]+\".npy\")\n",
    "                np.random.shuffle(npydata)\n",
    "                if npydata.shape[0]<2048:\n",
    "                    continue\n",
    "                else:\n",
    "                    temp_j_list = []\n",
    "                    for j in range(0, 2048):\n",
    "        #                     a_data[i, j] = [npydata[j][0], npydata[j][1], npydata[j][2]]\n",
    "                        temp_j_list.append([npydata[j][0], npydata[j][1], npydata[j][2]])\n",
    "        #                 a_label[i,0] = file[0]\n",
    "                    temp_list.append(temp_j_list)\n",
    "                    temp_label.append(int(fstr[1]))\n",
    "    #                 print(temp_label)\n",
    "\n",
    "        if len(temp_list) < max_shards:\n",
    "            for i in range(max_shards-len(temp_list)):\n",
    "                temp_shuffle_list=temp_list\n",
    "                np.random.shuffle(temp_shuffle_list)\n",
    "                temp_list.append(temp_shuffle_list[randrange(len(temp_shuffle_list))])\n",
    "                temp_label.append(int(fstr[1]))\n",
    "    #         print(len(temp_list))\n",
    "        a_data = np.array(temp_list)\n",
    "        a_label = np.transpose(np.array(temp_label))\n",
    "        data = f.create_dataset(\"data\", data = a_data)\n",
    "        label = f.create_dataset(\"label\", data= a_label)\n",
    "        f.close()"
   ]
  },
  {
   "cell_type": "code",
   "execution_count": null,
   "metadata": {},
   "outputs": [],
   "source": []
  },
  {
   "cell_type": "code",
   "execution_count": 54,
   "metadata": {},
   "outputs": [],
   "source": []
  },
  {
   "cell_type": "code",
   "execution_count": 41,
   "metadata": {},
   "outputs": [
    {
     "ename": "TypeError",
     "evalue": "object of type '_io.TextIOWrapper' has no len()",
     "output_type": "error",
     "traceback": [
      "\u001b[0;31m---------------------------------------------------------------------------\u001b[0m",
      "\u001b[0;31mTypeError\u001b[0m                                 Traceback (most recent call last)",
      "\u001b[0;32m<ipython-input-41-0aa3e4652496>\u001b[0m in \u001b[0;36m<module>\u001b[0;34m()\u001b[0m\n\u001b[0;32m----> 1\u001b[0;31m \u001b[0mlen\u001b[0m\u001b[0;34m(\u001b[0m\u001b[0mtotal\u001b[0m\u001b[0;34m)\u001b[0m\u001b[0;34m\u001b[0m\u001b[0m\n\u001b[0m",
      "\u001b[0;31mTypeError\u001b[0m: object of type '_io.TextIOWrapper' has no len()"
     ]
    }
   ],
   "source": []
  },
  {
   "cell_type": "code",
   "execution_count": 55,
   "metadata": {},
   "outputs": [],
   "source": [
    "import random\n",
    "\n",
    "with open(\"./data/npy_10000/total_files.txt\",\"r\") as f:\n",
    "    data = f.read().split('\\n')\n",
    "random.shuffle(data)\n",
    "\n",
    "\n",
    "train_data=data[:7000]\n",
    "test_data=data[7001:]"
   ]
  },
  {
   "cell_type": "code",
   "execution_count": 56,
   "metadata": {},
   "outputs": [
    {
     "data": {
      "text/plain": [
       "9934"
      ]
     },
     "execution_count": 56,
     "metadata": {},
     "output_type": "execute_result"
    }
   ],
   "source": [
    "len(data)"
   ]
  },
  {
   "cell_type": "code",
   "execution_count": 57,
   "metadata": {},
   "outputs": [],
   "source": [
    "train=open(\"./data/npy_10000/train_files.txt\",\"w+\")\n",
    "test=open(\"./data/npy_10000/test_files.txt\",\"w+\")\n",
    "\n",
    "for i in range(len(train_data)):\n",
    "    train_name=train_data[i]\n",
    "    train.write(\"%s\\n\"%train_name)\n",
    "    \n",
    "for i in range(len(test_data)):\n",
    "    test_name=test_data[i]\n",
    "    test.write(\"%s\\n\"%test_name)\n",
    "\n",
    "train.close()\n",
    "test.close()"
   ]
  },
  {
   "cell_type": "code",
   "execution_count": 58,
   "metadata": {},
   "outputs": [
    {
     "data": {
      "text/plain": [
       "2933"
      ]
     },
     "execution_count": 58,
     "metadata": {},
     "output_type": "execute_result"
    }
   ],
   "source": [
    "len(test_data)"
   ]
  },
  {
   "cell_type": "code",
   "execution_count": 59,
   "metadata": {},
   "outputs": [
    {
     "data": {
      "text/plain": [
       "(20, 2048, 3)"
      ]
     },
     "execution_count": 59,
     "metadata": {},
     "output_type": "execute_result"
    }
   ],
   "source": [
    "a_data.shape"
   ]
  },
  {
   "cell_type": "code",
   "execution_count": 62,
   "metadata": {},
   "outputs": [
    {
     "data": {
      "text/plain": [
       "20"
      ]
     },
     "execution_count": 62,
     "metadata": {},
     "output_type": "execute_result"
    }
   ],
   "source": [
    "len(temp_label)"
   ]
  },
  {
   "cell_type": "code",
   "execution_count": 63,
   "metadata": {},
   "outputs": [
    {
     "data": {
      "text/plain": [
       "[5, 5, 5, 5, 5, 5, 5, 5, 5, 5, 5, 5, 5, 5, 5, 5, 5, 5, 5, 5]"
      ]
     },
     "execution_count": 63,
     "metadata": {},
     "output_type": "execute_result"
    }
   ],
   "source": [
    "temp_label"
   ]
  },
  {
   "cell_type": "code",
   "execution_count": null,
   "metadata": {},
   "outputs": [],
   "source": []
  }
 ],
 "metadata": {
  "kernelspec": {
   "display_name": "Python 3",
   "language": "python",
   "name": "python3"
  },
  "language_info": {
   "codemirror_mode": {
    "name": "ipython",
    "version": 3
   },
   "file_extension": ".py",
   "mimetype": "text/x-python",
   "name": "python",
   "nbconvert_exporter": "python",
   "pygments_lexer": "ipython3",
   "version": "3.5.6"
  }
 },
 "nbformat": 4,
 "nbformat_minor": 2
}
